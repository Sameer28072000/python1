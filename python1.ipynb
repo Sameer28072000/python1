{
 "cells": [
  {
   "cell_type": "markdown",
   "id": "79b1db0d-39de-4fe9-a017-90fa7cb095de",
   "metadata": {},
   "source": [
    "Q1.Who developed python programming language?"
   ]
  },
  {
   "cell_type": "code",
   "execution_count": null,
   "id": "1905696d-a5d5-4d50-ba34-377e3967ac4f",
   "metadata": {},
   "outputs": [],
   "source": [
    "Ans:-Python Programming language was developed by Guido van Rossum in 1980."
   ]
  },
  {
   "cell_type": "markdown",
   "id": "e33408c4-dfea-4320-9352-cd665ef04825",
   "metadata": {},
   "source": [
    "Q2.Which type of Programming does python support?"
   ]
  },
  {
   "cell_type": "code",
   "execution_count": null,
   "id": "0908593c-2146-4312-b009-48b16a1f856f",
   "metadata": {},
   "outputs": [],
   "source": [
    "Ans:-Python support OOPs (Object oriented programming) language.It is a dynamically typed language."
   ]
  },
  {
   "cell_type": "markdown",
   "id": "eb2158cb-b2d5-4c54-a082-6b7330a167f0",
   "metadata": {},
   "source": [
    "Q3.Is python case sensitive when dealing with identifiers?"
   ]
  },
  {
   "cell_type": "code",
   "execution_count": null,
   "id": "82842e09-9037-4898-b34e-e5fa9d06fe78",
   "metadata": {},
   "outputs": [],
   "source": [
    "Ans:-Yes,Python is case sensitive when dealing with identifiers."
   ]
  },
  {
   "cell_type": "markdown",
   "id": "d623fc75-20fa-48af-a820-f368b0ca7195",
   "metadata": {},
   "source": [
    "Q4.Write the correct extension of the python file?"
   ]
  },
  {
   "cell_type": "code",
   "execution_count": null,
   "id": "f911d758-39fb-419d-880f-f5f47f76a966",
   "metadata": {},
   "outputs": [],
   "source": [
    "Ans:-The correct extension of the python file is (.py)"
   ]
  },
  {
   "cell_type": "markdown",
   "id": "9b7e8b6f-f529-4df4-8171-3923e9effc5c",
   "metadata": {},
   "source": [
    "Q5.Is python code compilied or interpreted?"
   ]
  },
  {
   "cell_type": "code",
   "execution_count": null,
   "id": "dc7cfd2a-6c01-45d2-9dfe-e43f32e2a149",
   "metadata": {},
   "outputs": [],
   "source": [
    "Ans:-Yes,Python is interpreted language means code executed lin eby line at the runtime."
   ]
  },
  {
   "cell_type": "markdown",
   "id": "841be434-d457-4add-8222-4e08e3fb1393",
   "metadata": {},
   "source": [
    "Q6.Name a few blocks of code used to define in python language?"
   ]
  },
  {
   "cell_type": "code",
   "execution_count": null,
   "id": "1fc79bd1-b1c1-4924-aa82-1e989f29d695",
   "metadata": {},
   "outputs": [],
   "source": [
    "Ans:-\n",
    "      i.if else\n",
    "       ii.if-elif else\n",
    "        iii.for loop\n",
    "          iv.while loop\n",
    "            v.function def"
   ]
  },
  {
   "cell_type": "markdown",
   "id": "153f3c39-afaa-49a7-810f-d2af2514c2ad",
   "metadata": {},
   "source": [
    "Q7.State a character used to give single-line command in python?"
   ]
  },
  {
   "cell_type": "code",
   "execution_count": null,
   "id": "4b1c5bfc-8ee4-470e-b1fa-64dc396204c1",
   "metadata": {},
   "outputs": [],
   "source": [
    "Ans:-The single-line command in python is (#)"
   ]
  },
  {
   "cell_type": "markdown",
   "id": "ed08bf25-59c0-4a9e-9921-626c10930d04",
   "metadata": {},
   "source": [
    "Q8.Mention function which can help to find the version of python that we are currently working on?"
   ]
  },
  {
   "cell_type": "code",
   "execution_count": null,
   "id": "3c03ae6f-b804-4530-a4b2-55ed2b15ae73",
   "metadata": {},
   "outputs": [],
   "source": [
    "Ans:-'sys' module provide a function called 'sys.version'."
   ]
  },
  {
   "cell_type": "markdown",
   "id": "1458691c-d59a-4608-ac74-bdf223fd5bd1",
   "metadata": {},
   "source": [
    "Q9.Python support the creation of ananynomous at runtime,using a construct called"
   ]
  },
  {
   "cell_type": "code",
   "execution_count": null,
   "id": "42df1585-b118-41e7-84a3-77ba099fc4f7",
   "metadata": {},
   "outputs": [],
   "source": [
    "Ans:-Python support the creation of ananynomous at runtime,using a construct called lambda function."
   ]
  },
  {
   "cell_type": "markdown",
   "id": "00b3d57a-9150-47f5-b945-c3c47a569bc8",
   "metadata": {},
   "source": [
    "Q10.What does pip stand for python?"
   ]
  },
  {
   "cell_type": "code",
   "execution_count": null,
   "id": "203edadb-a713-476b-976c-1f275a1dedfd",
   "metadata": {},
   "outputs": [],
   "source": [
    "Ans:-pip stands for Preffered Installer Program."
   ]
  },
  {
   "cell_type": "markdown",
   "id": "9af99e2e-a0e0-42ce-ba9a-065c4f03041c",
   "metadata": {},
   "source": [
    "Q11.Mention A few bulid-in function?"
   ]
  },
  {
   "cell_type": "code",
   "execution_count": null,
   "id": "99fb904a-549d-47af-a957-4bdb6f67f4b7",
   "metadata": {},
   "outputs": [],
   "source": [
    "Ans:- These are the built-in function in python.\n",
    "      i.print()\n",
    "       ii.input()\n",
    "        iii.len()\n",
    "          iv.type()\n",
    "            v.sorted()"
   ]
  },
  {
   "cell_type": "markdown",
   "id": "0daeff18-37ba-405d-8889-0e5e65baffb4",
   "metadata": {},
   "source": [
    "Q12.What is the max. possible length of an identifier in python?"
   ]
  },
  {
   "cell_type": "code",
   "execution_count": null,
   "id": "3b98a5d9-0769-431c-8904-ac960f5acc19",
   "metadata": {},
   "outputs": [],
   "source": [
    "Ans:- The max. possible length of an identifier in python can not be defined explicitly."
   ]
  },
  {
   "cell_type": "markdown",
   "id": "87e1b17b-9d76-4228-b750-ca8760a3b3ec",
   "metadata": {},
   "source": [
    "Q13.What are the benefits using python?"
   ]
  },
  {
   "cell_type": "code",
   "execution_count": null,
   "id": "b3c14e80-8f1b-4a0c-b3b4-6abd97f5a921",
   "metadata": {},
   "outputs": [],
   "source": [
    "Ans:- Benefits of using python:\n",
    "       i.Easy to learn & use\n",
    "        ii.Large standard library\n",
    "          iii.Simplicity\n",
    "            iv.Flexibility"
   ]
  },
  {
   "cell_type": "markdown",
   "id": "a6f43f35-2c52-467e-9710-f999e0701f88",
   "metadata": {},
   "source": [
    "Q14.How is memory managed in python?"
   ]
  },
  {
   "cell_type": "code",
   "execution_count": null,
   "id": "418fb394-db13-47f3-9e17-cfed7660390d",
   "metadata": {},
   "outputs": [],
   "source": [
    "Ans:-Memory managed in python handle automatically through a combination of technique,\n",
    "      including reference counting, garbage collection and memory pooling."
   ]
  },
  {
   "cell_type": "markdown",
   "id": "4f5b377a-7569-4b1c-99b2-133c4773dd93",
   "metadata": {},
   "source": [
    "Q15.How to install python on windows & set path variables?"
   ]
  },
  {
   "cell_type": "code",
   "execution_count": null,
   "id": "4fc33067-589c-4f10-aaf5-0a1a932416ab",
   "metadata": {},
   "outputs": [],
   "source": [
    "Ans:-\n",
    "      i.Download this link (https://www.python.org/downloads/)\n",
    "       ii.Run installer\n",
    "        iii.Customize installer\n",
    "          iv.complete installer\n",
    "            v.Verify installation\n",
    "             vi.Verify set path."
   ]
  },
  {
   "cell_type": "markdown",
   "id": "b1add813-5726-4de2-bc54-c249931a5404",
   "metadata": {},
   "source": [
    "Q16.Is identation required in python?"
   ]
  },
  {
   "cell_type": "code",
   "execution_count": null,
   "id": "555e7754-2b2f-43bc-a0c9-6732cfdfa7f1",
   "metadata": {},
   "outputs": [],
   "source": [
    "Ans:-Yes,identation is required in python.if you not given identation it will not execute futher\n",
    "      it shows you error"
   ]
  }
 ],
 "metadata": {
  "kernelspec": {
   "display_name": "Python 3 (ipykernel)",
   "language": "python",
   "name": "python3"
  },
  "language_info": {
   "codemirror_mode": {
    "name": "ipython",
    "version": 3
   },
   "file_extension": ".py",
   "mimetype": "text/x-python",
   "name": "python",
   "nbconvert_exporter": "python",
   "pygments_lexer": "ipython3",
   "version": "3.10.8"
  }
 },
 "nbformat": 4,
 "nbformat_minor": 5
}
